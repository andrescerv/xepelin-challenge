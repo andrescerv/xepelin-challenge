{
 "cells": [
  {
   "cell_type": "code",
   "execution_count": 1,
   "id": "d671814e",
   "metadata": {},
   "outputs": [],
   "source": [
    "import numpy as np\n",
    "import pandas as pd\n",
    "import seaborn as sns\n",
    "import matplotlib.pyplot as plt"
   ]
  },
  {
   "cell_type": "code",
   "execution_count": 79,
   "id": "8c53605e",
   "metadata": {},
   "outputs": [],
   "source": [
    "df = pd.read_csv('data_test.csv', parse_dates=['paidAt'])"
   ]
  },
  {
   "cell_type": "code",
   "execution_count": 80,
   "id": "2f610baa",
   "metadata": {},
   "outputs": [
    {
     "data": {
      "text/html": [
       "<div>\n",
       "<style scoped>\n",
       "    .dataframe tbody tr th:only-of-type {\n",
       "        vertical-align: middle;\n",
       "    }\n",
       "\n",
       "    .dataframe tbody tr th {\n",
       "        vertical-align: top;\n",
       "    }\n",
       "\n",
       "    .dataframe thead th {\n",
       "        text-align: right;\n",
       "    }\n",
       "</style>\n",
       "<table border=\"1\" class=\"dataframe\">\n",
       "  <thead>\n",
       "    <tr style=\"text-align: right;\">\n",
       "      <th></th>\n",
       "      <th>PayerId</th>\n",
       "      <th>ReceiverId</th>\n",
       "      <th>invoiceId</th>\n",
       "      <th>paidAt</th>\n",
       "      <th>amount</th>\n",
       "      <th>amountfinancedByXepelin</th>\n",
       "      <th>status</th>\n",
       "    </tr>\n",
       "  </thead>\n",
       "  <tbody>\n",
       "    <tr>\n",
       "      <th>0</th>\n",
       "      <td>53</td>\n",
       "      <td>10</td>\n",
       "      <td>18660729</td>\n",
       "      <td>2021-08-23</td>\n",
       "      <td>1490.46</td>\n",
       "      <td>0.00</td>\n",
       "      <td>PAID</td>\n",
       "    </tr>\n",
       "    <tr>\n",
       "      <th>1</th>\n",
       "      <td>93</td>\n",
       "      <td>11</td>\n",
       "      <td>18660730</td>\n",
       "      <td>2021-03-22</td>\n",
       "      <td>6418.28</td>\n",
       "      <td>624.48</td>\n",
       "      <td>PAID</td>\n",
       "    </tr>\n",
       "    <tr>\n",
       "      <th>2</th>\n",
       "      <td>122</td>\n",
       "      <td>12</td>\n",
       "      <td>18660731</td>\n",
       "      <td>2021-02-18</td>\n",
       "      <td>27979.20</td>\n",
       "      <td>10520.15</td>\n",
       "      <td>PAID</td>\n",
       "    </tr>\n",
       "    <tr>\n",
       "      <th>3</th>\n",
       "      <td>85</td>\n",
       "      <td>13</td>\n",
       "      <td>18660732</td>\n",
       "      <td>2021-03-15</td>\n",
       "      <td>183070.77</td>\n",
       "      <td>79421.63</td>\n",
       "      <td>PAID</td>\n",
       "    </tr>\n",
       "    <tr>\n",
       "      <th>4</th>\n",
       "      <td>87</td>\n",
       "      <td>14</td>\n",
       "      <td>18660733</td>\n",
       "      <td>2021-07-23</td>\n",
       "      <td>20532.00</td>\n",
       "      <td>20532.00</td>\n",
       "      <td>PAID</td>\n",
       "    </tr>\n",
       "  </tbody>\n",
       "</table>\n",
       "</div>"
      ],
      "text/plain": [
       "   PayerId  ReceiverId  invoiceId     paidAt     amount  \\\n",
       "0       53          10   18660729 2021-08-23    1490.46   \n",
       "1       93          11   18660730 2021-03-22    6418.28   \n",
       "2      122          12   18660731 2021-02-18   27979.20   \n",
       "3       85          13   18660732 2021-03-15  183070.77   \n",
       "4       87          14   18660733 2021-07-23   20532.00   \n",
       "\n",
       "   amountfinancedByXepelin status  \n",
       "0                     0.00   PAID  \n",
       "1                   624.48   PAID  \n",
       "2                 10520.15   PAID  \n",
       "3                 79421.63   PAID  \n",
       "4                 20532.00   PAID  "
      ]
     },
     "execution_count": 80,
     "metadata": {},
     "output_type": "execute_result"
    }
   ],
   "source": [
    "df.head()"
   ]
  },
  {
   "cell_type": "code",
   "execution_count": 4,
   "id": "d7f2825b",
   "metadata": {},
   "outputs": [
    {
     "data": {
      "text/plain": [
       "(1200, 7)"
      ]
     },
     "execution_count": 4,
     "metadata": {},
     "output_type": "execute_result"
    }
   ],
   "source": [
    "df.shape"
   ]
  },
  {
   "cell_type": "code",
   "execution_count": 5,
   "id": "3dc8c0d2",
   "metadata": {},
   "outputs": [
    {
     "name": "stdout",
     "output_type": "stream",
     "text": [
      "<class 'pandas.core.frame.DataFrame'>\n",
      "RangeIndex: 1200 entries, 0 to 1199\n",
      "Data columns (total 7 columns):\n",
      " #   Column                   Non-Null Count  Dtype         \n",
      "---  ------                   --------------  -----         \n",
      " 0   PayerId                  1200 non-null   int64         \n",
      " 1   ReceiverId               1200 non-null   int64         \n",
      " 2   invoiceId                1200 non-null   int64         \n",
      " 3   paidAt                   892 non-null    datetime64[ns]\n",
      " 4   amount                   1200 non-null   float64       \n",
      " 5   amountfinancedByXepelin  1200 non-null   float64       \n",
      " 6   status                   1200 non-null   object        \n",
      "dtypes: datetime64[ns](1), float64(2), int64(3), object(1)\n",
      "memory usage: 65.8+ KB\n"
     ]
    }
   ],
   "source": [
    "df.info()"
   ]
  },
  {
   "cell_type": "code",
   "execution_count": 181,
   "id": "74b6e69b",
   "metadata": {},
   "outputs": [
    {
     "data": {
      "text/html": [
       "<div>\n",
       "<style scoped>\n",
       "    .dataframe tbody tr th:only-of-type {\n",
       "        vertical-align: middle;\n",
       "    }\n",
       "\n",
       "    .dataframe tbody tr th {\n",
       "        vertical-align: top;\n",
       "    }\n",
       "\n",
       "    .dataframe thead th {\n",
       "        text-align: right;\n",
       "    }\n",
       "</style>\n",
       "<table border=\"1\" class=\"dataframe\">\n",
       "  <thead>\n",
       "    <tr style=\"text-align: right;\">\n",
       "      <th></th>\n",
       "      <th>PayerId</th>\n",
       "      <th>ReceiverId</th>\n",
       "      <th>invoiceId</th>\n",
       "      <th>amount</th>\n",
       "      <th>amountfinancedByXepelin</th>\n",
       "    </tr>\n",
       "  </thead>\n",
       "  <tbody>\n",
       "    <tr>\n",
       "      <th>count</th>\n",
       "      <td>1200.000000</td>\n",
       "      <td>1200.000000</td>\n",
       "      <td>1.200000e+03</td>\n",
       "      <td>1.200000e+03</td>\n",
       "      <td>1.200000e+03</td>\n",
       "    </tr>\n",
       "    <tr>\n",
       "      <th>mean</th>\n",
       "      <td>101.567500</td>\n",
       "      <td>60.290000</td>\n",
       "      <td>1.866133e+07</td>\n",
       "      <td>2.785217e+04</td>\n",
       "      <td>1.749303e+04</td>\n",
       "    </tr>\n",
       "    <tr>\n",
       "      <th>std</th>\n",
       "      <td>57.232888</td>\n",
       "      <td>40.187333</td>\n",
       "      <td>3.465545e+02</td>\n",
       "      <td>1.414899e+05</td>\n",
       "      <td>1.229016e+05</td>\n",
       "    </tr>\n",
       "    <tr>\n",
       "      <th>min</th>\n",
       "      <td>1.000000</td>\n",
       "      <td>10.000000</td>\n",
       "      <td>1.866073e+07</td>\n",
       "      <td>5.816000e+01</td>\n",
       "      <td>0.000000e+00</td>\n",
       "    </tr>\n",
       "    <tr>\n",
       "      <th>25%</th>\n",
       "      <td>52.000000</td>\n",
       "      <td>16.000000</td>\n",
       "      <td>1.866103e+07</td>\n",
       "      <td>1.251810e+03</td>\n",
       "      <td>0.000000e+00</td>\n",
       "    </tr>\n",
       "    <tr>\n",
       "      <th>50%</th>\n",
       "      <td>103.000000</td>\n",
       "      <td>58.000000</td>\n",
       "      <td>1.866133e+07</td>\n",
       "      <td>1.490460e+03</td>\n",
       "      <td>0.000000e+00</td>\n",
       "    </tr>\n",
       "    <tr>\n",
       "      <th>75%</th>\n",
       "      <td>151.250000</td>\n",
       "      <td>89.500000</td>\n",
       "      <td>1.866163e+07</td>\n",
       "      <td>4.120858e+03</td>\n",
       "      <td>0.000000e+00</td>\n",
       "    </tr>\n",
       "    <tr>\n",
       "      <th>max</th>\n",
       "      <td>200.000000</td>\n",
       "      <td>154.000000</td>\n",
       "      <td>1.866193e+07</td>\n",
       "      <td>3.370742e+06</td>\n",
       "      <td>3.370742e+06</td>\n",
       "    </tr>\n",
       "  </tbody>\n",
       "</table>\n",
       "</div>"
      ],
      "text/plain": [
       "           PayerId   ReceiverId     invoiceId        amount  \\\n",
       "count  1200.000000  1200.000000  1.200000e+03  1.200000e+03   \n",
       "mean    101.567500    60.290000  1.866133e+07  2.785217e+04   \n",
       "std      57.232888    40.187333  3.465545e+02  1.414899e+05   \n",
       "min       1.000000    10.000000  1.866073e+07  5.816000e+01   \n",
       "25%      52.000000    16.000000  1.866103e+07  1.251810e+03   \n",
       "50%     103.000000    58.000000  1.866133e+07  1.490460e+03   \n",
       "75%     151.250000    89.500000  1.866163e+07  4.120858e+03   \n",
       "max     200.000000   154.000000  1.866193e+07  3.370742e+06   \n",
       "\n",
       "       amountfinancedByXepelin  \n",
       "count             1.200000e+03  \n",
       "mean              1.749303e+04  \n",
       "std               1.229016e+05  \n",
       "min               0.000000e+00  \n",
       "25%               0.000000e+00  \n",
       "50%               0.000000e+00  \n",
       "75%               0.000000e+00  \n",
       "max               3.370742e+06  "
      ]
     },
     "execution_count": 181,
     "metadata": {},
     "output_type": "execute_result"
    }
   ],
   "source": [
    "df.describe()"
   ]
  },
  {
   "cell_type": "markdown",
   "id": "aad85dab",
   "metadata": {},
   "source": [
    "## 'paidAt'"
   ]
  },
  {
   "cell_type": "code",
   "execution_count": 6,
   "id": "166144ec",
   "metadata": {},
   "outputs": [
    {
     "name": "stderr",
     "output_type": "stream",
     "text": [
      "C:\\Users\\cerva\\anaconda3\\lib\\site-packages\\pandas\\core\\groupby\\groupby.py:1973: FutureWarning: Treating datetime data as categorical rather than numeric in `.describe` is deprecated and will be removed in a future version of pandas. Specify `datetime_is_numeric=True` to silence this warning and adopt the future behavior now.\n",
      "  result = self.apply(lambda x: x.describe(**kwargs))\n"
     ]
    },
    {
     "data": {
      "text/html": [
       "<div>\n",
       "<style scoped>\n",
       "    .dataframe tbody tr th:only-of-type {\n",
       "        vertical-align: middle;\n",
       "    }\n",
       "\n",
       "    .dataframe tbody tr th {\n",
       "        vertical-align: top;\n",
       "    }\n",
       "\n",
       "    .dataframe thead tr th {\n",
       "        text-align: left;\n",
       "    }\n",
       "\n",
       "    .dataframe thead tr:last-of-type th {\n",
       "        text-align: right;\n",
       "    }\n",
       "</style>\n",
       "<table border=\"1\" class=\"dataframe\">\n",
       "  <thead>\n",
       "    <tr>\n",
       "      <th></th>\n",
       "      <th colspan=\"6\" halign=\"left\">paidAt</th>\n",
       "    </tr>\n",
       "    <tr>\n",
       "      <th></th>\n",
       "      <th>count</th>\n",
       "      <th>first</th>\n",
       "      <th>freq</th>\n",
       "      <th>last</th>\n",
       "      <th>top</th>\n",
       "      <th>unique</th>\n",
       "    </tr>\n",
       "    <tr>\n",
       "      <th>status</th>\n",
       "      <th></th>\n",
       "      <th></th>\n",
       "      <th></th>\n",
       "      <th></th>\n",
       "      <th></th>\n",
       "      <th></th>\n",
       "    </tr>\n",
       "  </thead>\n",
       "  <tbody>\n",
       "    <tr>\n",
       "      <th>FAILED</th>\n",
       "      <td>0</td>\n",
       "      <td>NaT</td>\n",
       "      <td>NaN</td>\n",
       "      <td>NaT</td>\n",
       "      <td>NaT</td>\n",
       "      <td>0</td>\n",
       "    </tr>\n",
       "    <tr>\n",
       "      <th>PAID</th>\n",
       "      <td>892</td>\n",
       "      <td>2021-02-08</td>\n",
       "      <td>84</td>\n",
       "      <td>2021-09-30</td>\n",
       "      <td>2021-06-07</td>\n",
       "      <td>132</td>\n",
       "    </tr>\n",
       "    <tr>\n",
       "      <th>PROCESSING</th>\n",
       "      <td>0</td>\n",
       "      <td>NaT</td>\n",
       "      <td>NaN</td>\n",
       "      <td>NaT</td>\n",
       "      <td>NaT</td>\n",
       "      <td>0</td>\n",
       "    </tr>\n",
       "  </tbody>\n",
       "</table>\n",
       "</div>"
      ],
      "text/plain": [
       "           paidAt                                             \n",
       "            count      first freq       last        top unique\n",
       "status                                                        \n",
       "FAILED          0        NaT  NaN        NaT        NaT      0\n",
       "PAID          892 2021-02-08   84 2021-09-30 2021-06-07    132\n",
       "PROCESSING      0        NaT  NaN        NaT        NaT      0"
      ]
     },
     "execution_count": 6,
     "metadata": {},
     "output_type": "execute_result"
    }
   ],
   "source": [
    "df.groupby('status').describe(include='datetime')"
   ]
  },
  {
   "cell_type": "code",
   "execution_count": 199,
   "id": "85e4c952",
   "metadata": {},
   "outputs": [
    {
     "data": {
      "text/plain": [
       "<AxesSubplot:xlabel='status', ylabel='count'>"
      ]
     },
     "execution_count": 199,
     "metadata": {},
     "output_type": "execute_result"
    },
    {
     "data": {
      "image/png": "[encoded data removed]",
      "text/plain": [
       "<Figure size 432x288 with 1 Axes>"
      ]
     },
     "metadata": {
      "needs_background": "light"
     },
     "output_type": "display_data"
    }
   ],
   "source": [
    "sns.countplot(data=df, x='status')"
   ]
  },
  {
   "cell_type": "code",
   "execution_count": 7,
   "id": "243b917f",
   "metadata": {},
   "outputs": [
    {
     "name": "stderr",
     "output_type": "stream",
     "text": [
      "C:\\Users\\cerva\\anaconda3\\lib\\site-packages\\pandas\\util\\_decorators.py:311: SettingWithCopyWarning: \n",
      "A value is trying to be set on a copy of a slice from a DataFrame\n",
      "\n",
      "See the caveats in the documentation: https://pandas.pydata.org/pandas-docs/stable/user_guide/indexing.html#returning-a-view-versus-a-copy\n",
      "  return func(*args, **kwargs)\n",
      "C:\\Users\\cerva\\anaconda3\\lib\\site-packages\\pandas\\core\\frame.py:4906: SettingWithCopyWarning: \n",
      "A value is trying to be set on a copy of a slice from a DataFrame\n",
      "\n",
      "See the caveats in the documentation: https://pandas.pydata.org/pandas-docs/stable/user_guide/indexing.html#returning-a-view-versus-a-copy\n",
      "  return super().drop(\n"
     ]
    },
    {
     "data": {
      "text/html": [
       "<div>\n",
       "<style scoped>\n",
       "    .dataframe tbody tr th:only-of-type {\n",
       "        vertical-align: middle;\n",
       "    }\n",
       "\n",
       "    .dataframe tbody tr th {\n",
       "        vertical-align: top;\n",
       "    }\n",
       "\n",
       "    .dataframe thead th {\n",
       "        text-align: right;\n",
       "    }\n",
       "</style>\n",
       "<table border=\"1\" class=\"dataframe\">\n",
       "  <thead>\n",
       "    <tr style=\"text-align: right;\">\n",
       "      <th></th>\n",
       "      <th>paidAt</th>\n",
       "      <th>amount</th>\n",
       "      <th>amountfinancedByXepelin</th>\n",
       "    </tr>\n",
       "  </thead>\n",
       "  <tbody>\n",
       "    <tr>\n",
       "      <th>0</th>\n",
       "      <td>2021-02-08</td>\n",
       "      <td>1490.46</td>\n",
       "      <td>0.00</td>\n",
       "    </tr>\n",
       "    <tr>\n",
       "      <th>1</th>\n",
       "      <td>2021-02-08</td>\n",
       "      <td>920.26</td>\n",
       "      <td>0.00</td>\n",
       "    </tr>\n",
       "    <tr>\n",
       "      <th>2</th>\n",
       "      <td>2021-02-15</td>\n",
       "      <td>4035.26</td>\n",
       "      <td>0.00</td>\n",
       "    </tr>\n",
       "    <tr>\n",
       "      <th>3</th>\n",
       "      <td>2021-02-18</td>\n",
       "      <td>27979.20</td>\n",
       "      <td>10520.15</td>\n",
       "    </tr>\n",
       "    <tr>\n",
       "      <th>4</th>\n",
       "      <td>2021-03-02</td>\n",
       "      <td>1477.46</td>\n",
       "      <td>0.00</td>\n",
       "    </tr>\n",
       "    <tr>\n",
       "      <th>...</th>\n",
       "      <td>...</td>\n",
       "      <td>...</td>\n",
       "      <td>...</td>\n",
       "    </tr>\n",
       "    <tr>\n",
       "      <th>887</th>\n",
       "      <td>2021-09-29</td>\n",
       "      <td>1490.46</td>\n",
       "      <td>0.00</td>\n",
       "    </tr>\n",
       "    <tr>\n",
       "      <th>888</th>\n",
       "      <td>2021-09-30</td>\n",
       "      <td>1490.46</td>\n",
       "      <td>0.00</td>\n",
       "    </tr>\n",
       "    <tr>\n",
       "      <th>889</th>\n",
       "      <td>2021-09-30</td>\n",
       "      <td>13989.60</td>\n",
       "      <td>0.00</td>\n",
       "    </tr>\n",
       "    <tr>\n",
       "      <th>890</th>\n",
       "      <td>2021-09-30</td>\n",
       "      <td>1041.26</td>\n",
       "      <td>0.00</td>\n",
       "    </tr>\n",
       "    <tr>\n",
       "      <th>891</th>\n",
       "      <td>2021-09-30</td>\n",
       "      <td>1490.46</td>\n",
       "      <td>0.00</td>\n",
       "    </tr>\n",
       "  </tbody>\n",
       "</table>\n",
       "<p>892 rows × 3 columns</p>\n",
       "</div>"
      ],
      "text/plain": [
       "        paidAt    amount  amountfinancedByXepelin\n",
       "0   2021-02-08   1490.46                     0.00\n",
       "1   2021-02-08    920.26                     0.00\n",
       "2   2021-02-15   4035.26                     0.00\n",
       "3   2021-02-18  27979.20                 10520.15\n",
       "4   2021-03-02   1477.46                     0.00\n",
       "..         ...       ...                      ...\n",
       "887 2021-09-29   1490.46                     0.00\n",
       "888 2021-09-30   1490.46                     0.00\n",
       "889 2021-09-30  13989.60                     0.00\n",
       "890 2021-09-30   1041.26                     0.00\n",
       "891 2021-09-30   1490.46                     0.00\n",
       "\n",
       "[892 rows x 3 columns]"
      ]
     },
     "execution_count": 7,
     "metadata": {},
     "output_type": "execute_result"
    }
   ],
   "source": [
    "paid_df = df[df['status'] == 'PAID']\n",
    "\n",
    "paid_df.sort_values('paidAt', inplace=True)\n",
    "paid_df.drop(columns=['PayerId','ReceiverId','invoiceId','status'], inplace=True)\n",
    "paid_df.reset_index(inplace=True,drop=True)\n",
    "\n",
    "paid_df"
   ]
  },
  {
   "cell_type": "markdown",
   "id": "3d96c96a",
   "metadata": {},
   "source": [
    "## summing 'amount' and 'amountfinancedByXepelin' by date"
   ]
  },
  {
   "cell_type": "code",
   "execution_count": 202,
   "id": "bdb43932",
   "metadata": {},
   "outputs": [
    {
     "data": {
      "text/html": [
       "<div>\n",
       "<style scoped>\n",
       "    .dataframe tbody tr th:only-of-type {\n",
       "        vertical-align: middle;\n",
       "    }\n",
       "\n",
       "    .dataframe tbody tr th {\n",
       "        vertical-align: top;\n",
       "    }\n",
       "\n",
       "    .dataframe thead th {\n",
       "        text-align: right;\n",
       "    }\n",
       "</style>\n",
       "<table border=\"1\" class=\"dataframe\">\n",
       "  <thead>\n",
       "    <tr style=\"text-align: right;\">\n",
       "      <th></th>\n",
       "      <th>paidAt</th>\n",
       "      <th>variable</th>\n",
       "      <th>value</th>\n",
       "    </tr>\n",
       "  </thead>\n",
       "  <tbody>\n",
       "    <tr>\n",
       "      <th>0</th>\n",
       "      <td>2021-02-08</td>\n",
       "      <td>amount</td>\n",
       "      <td>2410.72</td>\n",
       "    </tr>\n",
       "    <tr>\n",
       "      <th>1</th>\n",
       "      <td>2021-02-15</td>\n",
       "      <td>amount</td>\n",
       "      <td>4035.26</td>\n",
       "    </tr>\n",
       "    <tr>\n",
       "      <th>2</th>\n",
       "      <td>2021-02-18</td>\n",
       "      <td>amount</td>\n",
       "      <td>27979.20</td>\n",
       "    </tr>\n",
       "    <tr>\n",
       "      <th>3</th>\n",
       "      <td>2021-03-02</td>\n",
       "      <td>amount</td>\n",
       "      <td>1477.46</td>\n",
       "    </tr>\n",
       "    <tr>\n",
       "      <th>4</th>\n",
       "      <td>2021-03-04</td>\n",
       "      <td>amount</td>\n",
       "      <td>8688.40</td>\n",
       "    </tr>\n",
       "    <tr>\n",
       "      <th>...</th>\n",
       "      <td>...</td>\n",
       "      <td>...</td>\n",
       "      <td>...</td>\n",
       "    </tr>\n",
       "    <tr>\n",
       "      <th>259</th>\n",
       "      <td>2021-09-17</td>\n",
       "      <td>amountfinancedByXepelin</td>\n",
       "      <td>14261.97</td>\n",
       "    </tr>\n",
       "    <tr>\n",
       "      <th>260</th>\n",
       "      <td>2021-09-20</td>\n",
       "      <td>amountfinancedByXepelin</td>\n",
       "      <td>0.00</td>\n",
       "    </tr>\n",
       "    <tr>\n",
       "      <th>261</th>\n",
       "      <td>2021-09-27</td>\n",
       "      <td>amountfinancedByXepelin</td>\n",
       "      <td>0.00</td>\n",
       "    </tr>\n",
       "    <tr>\n",
       "      <th>262</th>\n",
       "      <td>2021-09-29</td>\n",
       "      <td>amountfinancedByXepelin</td>\n",
       "      <td>0.00</td>\n",
       "    </tr>\n",
       "    <tr>\n",
       "      <th>263</th>\n",
       "      <td>2021-09-30</td>\n",
       "      <td>amountfinancedByXepelin</td>\n",
       "      <td>0.00</td>\n",
       "    </tr>\n",
       "  </tbody>\n",
       "</table>\n",
       "<p>264 rows × 3 columns</p>\n",
       "</div>"
      ],
      "text/plain": [
       "        paidAt                 variable     value\n",
       "0   2021-02-08                   amount   2410.72\n",
       "1   2021-02-15                   amount   4035.26\n",
       "2   2021-02-18                   amount  27979.20\n",
       "3   2021-03-02                   amount   1477.46\n",
       "4   2021-03-04                   amount   8688.40\n",
       "..         ...                      ...       ...\n",
       "259 2021-09-17  amountfinancedByXepelin  14261.97\n",
       "260 2021-09-20  amountfinancedByXepelin      0.00\n",
       "261 2021-09-27  amountfinancedByXepelin      0.00\n",
       "262 2021-09-29  amountfinancedByXepelin      0.00\n",
       "263 2021-09-30  amountfinancedByXepelin      0.00\n",
       "\n",
       "[264 rows x 3 columns]"
      ]
     },
     "execution_count": 202,
     "metadata": {},
     "output_type": "execute_result"
    }
   ],
   "source": [
    "day_df = paid_df.groupby('paidAt').agg({'amount':'sum', 'amountfinancedByXepelin':'sum'})\n",
    "\n",
    "day_df.reset_index(inplace=True)\n",
    "\n",
    "melt_day_df = pd.melt(day_df, ['paidAt'])\n",
    "\n",
    "melt_day_df"
   ]
  },
  {
   "cell_type": "code",
   "execution_count": 203,
   "id": "ef92c2b7",
   "metadata": {},
   "outputs": [
    {
     "data": {
      "image/png": "[encoded data removed]",
      "text/plain": [
       "<Figure size 1080x288 with 1 Axes>"
      ]
     },
     "metadata": {
      "needs_background": "light"
     },
     "output_type": "display_data"
    }
   ],
   "source": [
    "plt.figure(figsize = (15,4))\n",
    "ax = sns.lineplot(x='paidAt', y='value', hue='variable',\n",
    "                  data=melt_day_df\n",
    "                 )\n",
    "plt.xticks(rotation=45)\n",
    "None"
   ]
  },
  {
   "cell_type": "markdown",
   "id": "267459ba",
   "metadata": {},
   "source": [
    "## summing 'amount' and 'amountfinancedByXepelin' by month "
   ]
  },
  {
   "cell_type": "code",
   "execution_count": 204,
   "id": "8b61091f",
   "metadata": {},
   "outputs": [
    {
     "data": {
      "text/html": [
       "<div>\n",
       "<style scoped>\n",
       "    .dataframe tbody tr th:only-of-type {\n",
       "        vertical-align: middle;\n",
       "    }\n",
       "\n",
       "    .dataframe tbody tr th {\n",
       "        vertical-align: top;\n",
       "    }\n",
       "\n",
       "    .dataframe thead th {\n",
       "        text-align: right;\n",
       "    }\n",
       "</style>\n",
       "<table border=\"1\" class=\"dataframe\">\n",
       "  <thead>\n",
       "    <tr style=\"text-align: right;\">\n",
       "      <th></th>\n",
       "      <th>month</th>\n",
       "      <th>variable</th>\n",
       "      <th>value</th>\n",
       "    </tr>\n",
       "  </thead>\n",
       "  <tbody>\n",
       "    <tr>\n",
       "      <th>0</th>\n",
       "      <td>2</td>\n",
       "      <td>amount</td>\n",
       "      <td>34425.18</td>\n",
       "    </tr>\n",
       "    <tr>\n",
       "      <th>1</th>\n",
       "      <td>3</td>\n",
       "      <td>amount</td>\n",
       "      <td>269826.65</td>\n",
       "    </tr>\n",
       "    <tr>\n",
       "      <th>2</th>\n",
       "      <td>4</td>\n",
       "      <td>amount</td>\n",
       "      <td>753946.49</td>\n",
       "    </tr>\n",
       "    <tr>\n",
       "      <th>3</th>\n",
       "      <td>5</td>\n",
       "      <td>amount</td>\n",
       "      <td>7250723.28</td>\n",
       "    </tr>\n",
       "    <tr>\n",
       "      <th>4</th>\n",
       "      <td>6</td>\n",
       "      <td>amount</td>\n",
       "      <td>7132982.75</td>\n",
       "    </tr>\n",
       "    <tr>\n",
       "      <th>5</th>\n",
       "      <td>7</td>\n",
       "      <td>amount</td>\n",
       "      <td>5765920.25</td>\n",
       "    </tr>\n",
       "    <tr>\n",
       "      <th>6</th>\n",
       "      <td>8</td>\n",
       "      <td>amount</td>\n",
       "      <td>5044795.41</td>\n",
       "    </tr>\n",
       "    <tr>\n",
       "      <th>7</th>\n",
       "      <td>9</td>\n",
       "      <td>amount</td>\n",
       "      <td>1178392.90</td>\n",
       "    </tr>\n",
       "    <tr>\n",
       "      <th>8</th>\n",
       "      <td>2</td>\n",
       "      <td>amountfinancedByXepelin</td>\n",
       "      <td>10520.15</td>\n",
       "    </tr>\n",
       "    <tr>\n",
       "      <th>9</th>\n",
       "      <td>3</td>\n",
       "      <td>amountfinancedByXepelin</td>\n",
       "      <td>119352.51</td>\n",
       "    </tr>\n",
       "    <tr>\n",
       "      <th>10</th>\n",
       "      <td>4</td>\n",
       "      <td>amountfinancedByXepelin</td>\n",
       "      <td>592831.07</td>\n",
       "    </tr>\n",
       "    <tr>\n",
       "      <th>11</th>\n",
       "      <td>5</td>\n",
       "      <td>amountfinancedByXepelin</td>\n",
       "      <td>5187188.89</td>\n",
       "    </tr>\n",
       "    <tr>\n",
       "      <th>12</th>\n",
       "      <td>6</td>\n",
       "      <td>amountfinancedByXepelin</td>\n",
       "      <td>4518034.66</td>\n",
       "    </tr>\n",
       "    <tr>\n",
       "      <th>13</th>\n",
       "      <td>7</td>\n",
       "      <td>amountfinancedByXepelin</td>\n",
       "      <td>2344379.98</td>\n",
       "    </tr>\n",
       "    <tr>\n",
       "      <th>14</th>\n",
       "      <td>8</td>\n",
       "      <td>amountfinancedByXepelin</td>\n",
       "      <td>3057870.38</td>\n",
       "    </tr>\n",
       "    <tr>\n",
       "      <th>15</th>\n",
       "      <td>9</td>\n",
       "      <td>amountfinancedByXepelin</td>\n",
       "      <td>714735.77</td>\n",
       "    </tr>\n",
       "  </tbody>\n",
       "</table>\n",
       "</div>"
      ],
      "text/plain": [
       "    month                 variable       value\n",
       "0       2                   amount    34425.18\n",
       "1       3                   amount   269826.65\n",
       "2       4                   amount   753946.49\n",
       "3       5                   amount  7250723.28\n",
       "4       6                   amount  7132982.75\n",
       "5       7                   amount  5765920.25\n",
       "6       8                   amount  5044795.41\n",
       "7       9                   amount  1178392.90\n",
       "8       2  amountfinancedByXepelin    10520.15\n",
       "9       3  amountfinancedByXepelin   119352.51\n",
       "10      4  amountfinancedByXepelin   592831.07\n",
       "11      5  amountfinancedByXepelin  5187188.89\n",
       "12      6  amountfinancedByXepelin  4518034.66\n",
       "13      7  amountfinancedByXepelin  2344379.98\n",
       "14      8  amountfinancedByXepelin  3057870.38\n",
       "15      9  amountfinancedByXepelin   714735.77"
      ]
     },
     "execution_count": 204,
     "metadata": {},
     "output_type": "execute_result"
    }
   ],
   "source": [
    "paid_df['month'] = paid_df['paidAt'].dt.month\n",
    "\n",
    "month_df = paid_df.groupby('month').agg({'amount':'sum', 'amountfinancedByXepelin':'sum'})\n",
    "month_df.reset_index(inplace=True) #, drop=True)\n",
    "\n",
    "melt_month_df = pd.melt(month_df, ['month'])\n",
    "\n",
    "melt_month_df"
   ]
  },
  {
   "cell_type": "code",
   "execution_count": 206,
   "id": "267b4bd1",
   "metadata": {},
   "outputs": [
    {
     "data": {
      "image/png": "[encoded data removed]",
      "text/plain": [
       "<Figure size 1080x288 with 1 Axes>"
      ]
     },
     "metadata": {
      "needs_background": "light"
     },
     "output_type": "display_data"
    }
   ],
   "source": [
    "plt.figure(figsize = (15,4))\n",
    "ax = sns.lineplot(x='month', y='value',\n",
    "                 hue='variable',\n",
    "                 data=melt_df,\n",
    "                ci=None\n",
    "                 )\n",
    "plt.xticks(rotation=45)\n",
    "None"
   ]
  },
  {
   "cell_type": "code",
   "execution_count": 209,
   "id": "2b825a26",
   "metadata": {},
   "outputs": [
    {
     "data": {
      "text/plain": [
       "<Figure size 1080x288 with 0 Axes>"
      ]
     },
     "metadata": {},
     "output_type": "display_data"
    },
    {
     "data": {
      "image/png": "[encoded data removed]",
      "text/plain": [
       "<Figure size 527.5x360 with 1 Axes>"
      ]
     },
     "metadata": {
      "needs_background": "light"
     },
     "output_type": "display_data"
    }
   ],
   "source": [
    "plt.figure(figsize = (15,4))\n",
    "ax = sns.lmplot(x='month', y='value',\n",
    "                hue='variable',\n",
    "                data=melt_df,\n",
    "                ci=None\n",
    ")\n",
    "plt.xticks(rotation=45)\n",
    "None"
   ]
  },
  {
   "cell_type": "markdown",
   "id": "7ce6a0bc",
   "metadata": {},
   "source": [
    "# regression model"
   ]
  },
  {
   "cell_type": "code",
   "execution_count": 27,
   "id": "c86d178e",
   "metadata": {},
   "outputs": [],
   "source": [
    "from sklearn.linear_model import LinearRegression"
   ]
  },
  {
   "cell_type": "code",
   "execution_count": 210,
   "id": "74b723b6",
   "metadata": {},
   "outputs": [
    {
     "data": {
      "text/html": [
       "<div>\n",
       "<style scoped>\n",
       "    .dataframe tbody tr th:only-of-type {\n",
       "        vertical-align: middle;\n",
       "    }\n",
       "\n",
       "    .dataframe tbody tr th {\n",
       "        vertical-align: top;\n",
       "    }\n",
       "\n",
       "    .dataframe thead th {\n",
       "        text-align: right;\n",
       "    }\n",
       "</style>\n",
       "<table border=\"1\" class=\"dataframe\">\n",
       "  <thead>\n",
       "    <tr style=\"text-align: right;\">\n",
       "      <th></th>\n",
       "      <th>month</th>\n",
       "      <th>amount</th>\n",
       "      <th>amountfinancedByXepelin</th>\n",
       "    </tr>\n",
       "  </thead>\n",
       "  <tbody>\n",
       "    <tr>\n",
       "      <th>0</th>\n",
       "      <td>2</td>\n",
       "      <td>34425.18</td>\n",
       "      <td>10520.15</td>\n",
       "    </tr>\n",
       "    <tr>\n",
       "      <th>1</th>\n",
       "      <td>3</td>\n",
       "      <td>269826.65</td>\n",
       "      <td>119352.51</td>\n",
       "    </tr>\n",
       "    <tr>\n",
       "      <th>2</th>\n",
       "      <td>4</td>\n",
       "      <td>753946.49</td>\n",
       "      <td>592831.07</td>\n",
       "    </tr>\n",
       "    <tr>\n",
       "      <th>3</th>\n",
       "      <td>5</td>\n",
       "      <td>7250723.28</td>\n",
       "      <td>5187188.89</td>\n",
       "    </tr>\n",
       "    <tr>\n",
       "      <th>4</th>\n",
       "      <td>6</td>\n",
       "      <td>7132982.75</td>\n",
       "      <td>4518034.66</td>\n",
       "    </tr>\n",
       "    <tr>\n",
       "      <th>5</th>\n",
       "      <td>7</td>\n",
       "      <td>5765920.25</td>\n",
       "      <td>2344379.98</td>\n",
       "    </tr>\n",
       "    <tr>\n",
       "      <th>6</th>\n",
       "      <td>8</td>\n",
       "      <td>5044795.41</td>\n",
       "      <td>3057870.38</td>\n",
       "    </tr>\n",
       "    <tr>\n",
       "      <th>7</th>\n",
       "      <td>9</td>\n",
       "      <td>1178392.90</td>\n",
       "      <td>714735.77</td>\n",
       "    </tr>\n",
       "  </tbody>\n",
       "</table>\n",
       "</div>"
      ],
      "text/plain": [
       "   month      amount  amountfinancedByXepelin\n",
       "0      2    34425.18                 10520.15\n",
       "1      3   269826.65                119352.51\n",
       "2      4   753946.49                592831.07\n",
       "3      5  7250723.28               5187188.89\n",
       "4      6  7132982.75               4518034.66\n",
       "5      7  5765920.25               2344379.98\n",
       "6      8  5044795.41               3057870.38\n",
       "7      9  1178392.90                714735.77"
      ]
     },
     "execution_count": 210,
     "metadata": {},
     "output_type": "execute_result"
    }
   ],
   "source": [
    "month_df"
   ]
  },
  {
   "cell_type": "code",
   "execution_count": 211,
   "id": "fc761e0d",
   "metadata": {},
   "outputs": [],
   "source": [
    "X = month_df.month.values.reshape(-1, 1)\n",
    "y = month_df.amount.values\n",
    "\n",
    "X_xepelin = month_df.month.values.reshape(-1, 1)\n",
    "y_xepelin = month_df.amountfinancedByXepelin.values\n",
    "\n",
    "reg = LinearRegression().fit(X,y)\n",
    "reg_xepelin = LinearRegression().fit(X_xepelin,y_xepelin)"
   ]
  },
  {
   "cell_type": "code",
   "execution_count": 212,
   "id": "97ff04b4",
   "metadata": {},
   "outputs": [
    {
     "data": {
      "text/plain": [
       "0.18592798899200202"
      ]
     },
     "execution_count": 212,
     "metadata": {},
     "output_type": "execute_result"
    }
   ],
   "source": [
    "reg.score(X, y)"
   ]
  },
  {
   "cell_type": "code",
   "execution_count": 214,
   "id": "3c02607a",
   "metadata": {},
   "outputs": [
    {
     "data": {
      "text/plain": [
       "0.12100614844502411"
      ]
     },
     "execution_count": 214,
     "metadata": {},
     "output_type": "execute_result"
    }
   ],
   "source": [
    "reg_xepelin.score(X_xepelin,y_xepelin)"
   ]
  },
  {
   "cell_type": "code",
   "execution_count": 225,
   "id": "6c2e0db1",
   "metadata": {},
   "outputs": [
    {
     "name": "stdout",
     "output_type": "stream",
     "text": [
      "For 'amount' we obtain the following function: y = 557152.36x + 364538.61\n",
      "\n",
      "\n",
      "For 'amountfinancedByXepelin' we obtain the following function: y = 288185.61x + 483093.32\n"
     ]
    }
   ],
   "source": [
    "print(f\"For 'amount' we obtain the following function: y = {reg.coef_[0]:.2f}x + {reg.intercept_:.2f}\")\n",
    "print(\"\\n\")\n",
    "print(f\"For 'amountfinancedByXepelin' we obtain the following function: y = {reg_xepelin.coef_[0]:.2f}x + {reg_xepelin.intercept_:.2f}\")"
   ]
  },
  {
   "cell_type": "code",
   "execution_count": 229,
   "id": "6f068c06",
   "metadata": {},
   "outputs": [],
   "source": [
    "y_pred = reg.predict(np.arange(2,11).reshape(-1, 1))\n",
    "\n",
    "y_pred_xepelin = reg_xepelin.predict(np.arange(2,11).reshape(-1, 1))"
   ]
  },
  {
   "cell_type": "code",
   "execution_count": 231,
   "id": "9291e140",
   "metadata": {},
   "outputs": [
    {
     "name": "stdout",
     "output_type": "stream",
     "text": [
      "The predicted output of 'amount' in the month of October is 5936062.25\n",
      "\n",
      "\n",
      "The predicted output of 'amountfinancedByXepelin' in the month of October is 3364949.42\n"
     ]
    }
   ],
   "source": [
    "print(f\"The predicted output of 'amount' in the month of October is {y_pred[-1]:.2f}\")\n",
    "print(f\"\\n\")\n",
    "print(f\"The predicted output of 'amountfinancedByXepelin' in the month of October is {y_pred_xepelin[-1]:.2f}\")"
   ]
  },
  {
   "cell_type": "code",
   "execution_count": 48,
   "id": "82c66f45",
   "metadata": {},
   "outputs": [],
   "source": [
    "from sklearn.metrics import mean_squared_error, r2_score"
   ]
  },
  {
   "cell_type": "code",
   "execution_count": 49,
   "id": "0499e5d3",
   "metadata": {},
   "outputs": [
    {
     "ename": "NameError",
     "evalue": "name 'diabetes_y_test' is not defined",
     "output_type": "error",
     "traceback": [
      "\u001b[1;31m---------------------------------------------------------------------------\u001b[0m",
      "\u001b[1;31mNameError\u001b[0m                                 Traceback (most recent call last)",
      "\u001b[1;32m~\\AppData\\Local\\Temp/ipykernel_20220/2104548738.py\u001b[0m in \u001b[0;36m<module>\u001b[1;34m\u001b[0m\n\u001b[0;32m      1\u001b[0m \u001b[1;31m# The mean squared error\u001b[0m\u001b[1;33m\u001b[0m\u001b[1;33m\u001b[0m\u001b[0m\n\u001b[1;32m----> 2\u001b[1;33m \u001b[0mprint\u001b[0m\u001b[1;33m(\u001b[0m\u001b[1;34m\"Mean squared error: %.2f\"\u001b[0m \u001b[1;33m%\u001b[0m \u001b[0mmean_squared_error\u001b[0m\u001b[1;33m(\u001b[0m\u001b[0mdiabetes_y_test\u001b[0m\u001b[1;33m,\u001b[0m \u001b[0mdiabetes_y_pred\u001b[0m\u001b[1;33m)\u001b[0m\u001b[1;33m)\u001b[0m\u001b[1;33m\u001b[0m\u001b[1;33m\u001b[0m\u001b[0m\n\u001b[0m\u001b[0;32m      3\u001b[0m \u001b[1;31m# The coefficient of determination: 1 is perfect prediction\u001b[0m\u001b[1;33m\u001b[0m\u001b[1;33m\u001b[0m\u001b[0m\n\u001b[0;32m      4\u001b[0m \u001b[0mprint\u001b[0m\u001b[1;33m(\u001b[0m\u001b[1;34m\"Coefficient of determination: %.2f\"\u001b[0m \u001b[1;33m%\u001b[0m \u001b[0mr2_score\u001b[0m\u001b[1;33m(\u001b[0m\u001b[0mdiabetes_y_test\u001b[0m\u001b[1;33m,\u001b[0m \u001b[0mdiabetes_y_pred\u001b[0m\u001b[1;33m)\u001b[0m\u001b[1;33m)\u001b[0m\u001b[1;33m\u001b[0m\u001b[1;33m\u001b[0m\u001b[0m\n",
      "\u001b[1;31mNameError\u001b[0m: name 'diabetes_y_test' is not defined"
     ]
    }
   ],
   "source": [
    "# The mean squared error\n",
    "print(\"Mean squared error: %.2f\" % mean_squared_error(diabetes_y_test, diabetes_y_pred))\n",
    "# The coefficient of determination: 1 is perfect prediction\n",
    "print(\"Coefficient of determination: %.2f\" % r2_score(diabetes_y_test, diabetes_y_pred))"
   ]
  },
  {
   "cell_type": "markdown",
   "id": "f973b2c0",
   "metadata": {},
   "source": [
    "## Final plots"
   ]
  },
  {
   "cell_type": "code",
   "execution_count": 233,
   "id": "847b3745",
   "metadata": {},
   "outputs": [],
   "source": [
    "d = {\n",
    "    'month':np.arange(2,11),\n",
    "    'amount':np.append(y, y_pred[-1]),\n",
    "    'amount_pred':y_pred,\n",
    "    'amount_xepelin':np.append(y_xepelin, y_pred_xepelin[-1]),\n",
    "    'amount_xepelin_pred':y_pred_xepelin,\n",
    "}\n",
    "\n",
    "graph_df = pd.DataFrame(data=d)\n",
    "\n",
    "graph_melt_df = pd.melt(graph_df, 'month')\n",
    "graph_melt_df['model_pred'] = np.where((graph_melt_df.variable == 'amount_pred') | (graph_melt_df.variable == 'amount_xepelin_pred'), 1, 0)"
   ]
  },
  {
   "cell_type": "code",
   "execution_count": 234,
   "id": "f9d08f2b",
   "metadata": {},
   "outputs": [
    {
     "data": {
      "image/png": "[encoded data removed]",
      "text/plain": [
       "<Figure size 720x288 with 1 Axes>"
      ]
     },
     "metadata": {
      "needs_background": "light"
     },
     "output_type": "display_data"
    }
   ],
   "source": [
    "palette ={\"amount\": \"#841CDA\", \"amount_pred\": \"#AB71DC\", \"amount_xepelin\": \"#DA650A\", \"amount_xepelin_pred\": \"#E1975D\"}\n",
    "\n",
    "plt.figure(figsize = (10,4))\n",
    "ax= sns.lineplot(\n",
    "    data=graph_melt_df,\n",
    "    x='month',\n",
    "    y='value',\n",
    "    hue='variable',\n",
    "    style='model_pred',\n",
    "    palette=palette,\n",
    ")\n",
    "None\n",
    "\n",
    "# plt.savefig('final_graph.png')"
   ]
  },
  {
   "cell_type": "markdown",
   "id": "7579c691",
   "metadata": {},
   "source": [
    "https://towardsdatascience.com/predicting-sales-611cb5a252de"
   ]
  },
  {
   "cell_type": "markdown",
   "id": "0b273ca8",
   "metadata": {},
   "source": [
    "**How does knowing the future sales helps our business?**\n",
    "\n",
    "* First of all, it is a benchmark. We can use it as the business as usual level we are going to achieve if nothing changes in our strategy. Moreover, we can calculate the incremental value of our new actions on top of this benchmark.\n",
    "* Second, it can be utilized for planning. We can plan our demand and supply actions by looking at the forecasts. It helps to see where to invest more.\n",
    "* Last but not least, it is an excellent guide for planning budgets and targets."
   ]
  },
  {
   "cell_type": "markdown",
   "id": "9e71d104",
   "metadata": {},
   "source": [
    "# Autoregressive Integrated Moving Average (ARIMA)"
   ]
  },
  {
   "cell_type": "markdown",
   "id": "d0405f43",
   "metadata": {},
   "source": [
    "# Seasonal Autoregressive Integrated Moving-Average (SARIMA)"
   ]
  },
  {
   "cell_type": "markdown",
   "id": "6b25c2a1",
   "metadata": {},
   "source": [
    "# Vector Autoregression (VAR)"
   ]
  },
  {
   "cell_type": "markdown",
   "id": "13e058cd",
   "metadata": {},
   "source": [
    "# Long Short-term Memory (LSTM)"
   ]
  },
  {
   "cell_type": "code",
   "execution_count": null,
   "id": "b7ea366a",
   "metadata": {},
   "outputs": [],
   "source": []
  }
 ],
 "metadata": {
  "kernelspec": {
   "display_name": "Python 3 (ipykernel)",
   "language": "python",
   "name": "python3"
  },
  "language_info": {
   "codemirror_mode": {
    "name": "ipython",
    "version": 3
   },
   "file_extension": ".py",
   "mimetype": "text/x-python",
   "name": "python",
   "nbconvert_exporter": "python",
   "pygments_lexer": "ipython3",
   "version": "3.9.7"
  }
 },
 "nbformat": 4,
 "nbformat_minor": 5
}
